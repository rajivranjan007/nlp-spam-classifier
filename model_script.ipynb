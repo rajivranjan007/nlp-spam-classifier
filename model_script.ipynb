{
 "cells": [
  {
   "cell_type": "code",
   "execution_count": 3,
   "id": "f4e88bbf",
   "metadata": {},
   "outputs": [],
   "source": [
    "import pandas as pd\n",
    "import numpy as np"
   ]
  },
  {
   "cell_type": "code",
   "execution_count": 4,
   "id": "e4bdd03c",
   "metadata": {},
   "outputs": [],
   "source": [
    "df=pd.read_csv('spam_processed.csv')"
   ]
  },
  {
   "cell_type": "code",
   "execution_count": 5,
   "id": "1b90716a",
   "metadata": {},
   "outputs": [
    {
     "data": {
      "text/html": [
       "<div>\n",
       "<style scoped>\n",
       "    .dataframe tbody tr th:only-of-type {\n",
       "        vertical-align: middle;\n",
       "    }\n",
       "\n",
       "    .dataframe tbody tr th {\n",
       "        vertical-align: top;\n",
       "    }\n",
       "\n",
       "    .dataframe thead th {\n",
       "        text-align: right;\n",
       "    }\n",
       "</style>\n",
       "<table border=\"1\" class=\"dataframe\">\n",
       "  <thead>\n",
       "    <tr style=\"text-align: right;\">\n",
       "      <th></th>\n",
       "      <th>target</th>\n",
       "      <th>text</th>\n",
       "      <th>num_char</th>\n",
       "      <th>num_words</th>\n",
       "      <th>num_sen</th>\n",
       "      <th>processed_text</th>\n",
       "    </tr>\n",
       "  </thead>\n",
       "  <tbody>\n",
       "    <tr>\n",
       "      <th>0</th>\n",
       "      <td>0</td>\n",
       "      <td>Go until jurong point, crazy.. Available only ...</td>\n",
       "      <td>111</td>\n",
       "      <td>24</td>\n",
       "      <td>2</td>\n",
       "      <td>go jurong point crazi avail bugi n great world...</td>\n",
       "    </tr>\n",
       "    <tr>\n",
       "      <th>1</th>\n",
       "      <td>0</td>\n",
       "      <td>Ok lar... Joking wif u oni...</td>\n",
       "      <td>29</td>\n",
       "      <td>8</td>\n",
       "      <td>2</td>\n",
       "      <td>ok lar joke wif u oni</td>\n",
       "    </tr>\n",
       "    <tr>\n",
       "      <th>2</th>\n",
       "      <td>1</td>\n",
       "      <td>Free entry in 2 a wkly comp to win FA Cup fina...</td>\n",
       "      <td>155</td>\n",
       "      <td>37</td>\n",
       "      <td>2</td>\n",
       "      <td>free entri 2 wkli comp win fa cup final tkt 21...</td>\n",
       "    </tr>\n",
       "    <tr>\n",
       "      <th>3</th>\n",
       "      <td>0</td>\n",
       "      <td>U dun say so early hor... U c already then say...</td>\n",
       "      <td>49</td>\n",
       "      <td>13</td>\n",
       "      <td>1</td>\n",
       "      <td>u dun say earli hor u c alreadi say</td>\n",
       "    </tr>\n",
       "    <tr>\n",
       "      <th>4</th>\n",
       "      <td>0</td>\n",
       "      <td>Nah I don't think he goes to usf, he lives aro...</td>\n",
       "      <td>61</td>\n",
       "      <td>15</td>\n",
       "      <td>1</td>\n",
       "      <td>nah dont think goe usf live around though</td>\n",
       "    </tr>\n",
       "  </tbody>\n",
       "</table>\n",
       "</div>"
      ],
      "text/plain": [
       "   target                                               text  num_char  \\\n",
       "0       0  Go until jurong point, crazy.. Available only ...       111   \n",
       "1       0                      Ok lar... Joking wif u oni...        29   \n",
       "2       1  Free entry in 2 a wkly comp to win FA Cup fina...       155   \n",
       "3       0  U dun say so early hor... U c already then say...        49   \n",
       "4       0  Nah I don't think he goes to usf, he lives aro...        61   \n",
       "\n",
       "   num_words  num_sen                                     processed_text  \n",
       "0         24        2  go jurong point crazi avail bugi n great world...  \n",
       "1          8        2                              ok lar joke wif u oni  \n",
       "2         37        2  free entri 2 wkli comp win fa cup final tkt 21...  \n",
       "3         13        1                u dun say earli hor u c alreadi say  \n",
       "4         15        1          nah dont think goe usf live around though  "
      ]
     },
     "execution_count": 5,
     "metadata": {},
     "output_type": "execute_result"
    }
   ],
   "source": [
    "df.head()"
   ]
  },
  {
   "cell_type": "code",
   "execution_count": 7,
   "id": "949a0da9",
   "metadata": {},
   "outputs": [
    {
     "name": "stderr",
     "output_type": "stream",
     "text": [
      "\n",
      "[notice] A new release of pip is available: 25.0.1 -> 25.1.1\n",
      "[notice] To update, run: python.exe -m pip install --upgrade pip\n"
     ]
    },
    {
     "name": "stdout",
     "output_type": "stream",
     "text": [
      "Collecting scikit-learn\n",
      "  Downloading scikit_learn-1.7.0-cp313-cp313-win_amd64.whl.metadata (14 kB)\n",
      "Requirement already satisfied: numpy>=1.22.0 in c:\\users\\rajiv\\appdata\\local\\programs\\python\\python313\\lib\\site-packages (from scikit-learn) (2.2.6)\n",
      "Collecting scipy>=1.8.0 (from scikit-learn)\n",
      "  Downloading scipy-1.15.3-cp313-cp313-win_amd64.whl.metadata (60 kB)\n",
      "Requirement already satisfied: joblib>=1.2.0 in c:\\users\\rajiv\\appdata\\local\\programs\\python\\python313\\lib\\site-packages (from scikit-learn) (1.5.1)\n",
      "Collecting threadpoolctl>=3.1.0 (from scikit-learn)\n",
      "  Downloading threadpoolctl-3.6.0-py3-none-any.whl.metadata (13 kB)\n",
      "Downloading scikit_learn-1.7.0-cp313-cp313-win_amd64.whl (10.7 MB)\n",
      "   ---------------------------------------- 0.0/10.7 MB ? eta -:--:--\n",
      "   - -------------------------------------- 0.5/10.7 MB 3.6 MB/s eta 0:00:03\n",
      "   ---- ----------------------------------- 1.3/10.7 MB 3.2 MB/s eta 0:00:03\n",
      "   -------- ------------------------------- 2.4/10.7 MB 3.9 MB/s eta 0:00:03\n",
      "   ------------- -------------------------- 3.7/10.7 MB 4.3 MB/s eta 0:00:02\n",
      "   ----------------- ---------------------- 4.7/10.7 MB 4.6 MB/s eta 0:00:02\n",
      "   --------------------- ------------------ 5.8/10.7 MB 4.7 MB/s eta 0:00:02\n",
      "   -------------------------- ------------- 7.1/10.7 MB 4.9 MB/s eta 0:00:01\n",
      "   ------------------------------ --------- 8.1/10.7 MB 5.1 MB/s eta 0:00:01\n",
      "   ----------------------------------- ---- 9.4/10.7 MB 5.1 MB/s eta 0:00:01\n",
      "   ---------------------------------------  10.5/10.7 MB 5.2 MB/s eta 0:00:01\n",
      "   ---------------------------------------  10.5/10.7 MB 5.2 MB/s eta 0:00:01\n",
      "   ---------------------------------------- 10.7/10.7 MB 4.4 MB/s eta 0:00:00\n",
      "Downloading scipy-1.15.3-cp313-cp313-win_amd64.whl (41.0 MB)\n",
      "   ---------------------------------------- 0.0/41.0 MB ? eta -:--:--\n",
      "   - -------------------------------------- 1.0/41.0 MB 5.2 MB/s eta 0:00:08\n",
      "   -- ------------------------------------- 2.1/41.0 MB 5.2 MB/s eta 0:00:08\n",
      "   -- ------------------------------------- 2.9/41.0 MB 4.7 MB/s eta 0:00:09\n",
      "   --- ------------------------------------ 3.9/41.0 MB 4.9 MB/s eta 0:00:08\n",
      "   ----- ---------------------------------- 5.2/41.0 MB 5.1 MB/s eta 0:00:07\n",
      "   ------ --------------------------------- 6.3/41.0 MB 5.2 MB/s eta 0:00:07\n",
      "   ------- -------------------------------- 7.6/41.0 MB 5.2 MB/s eta 0:00:07\n",
      "   -------- ------------------------------- 8.7/41.0 MB 5.2 MB/s eta 0:00:07\n",
      "   --------- ------------------------------ 10.0/41.0 MB 5.3 MB/s eta 0:00:06\n",
      "   ----------- ---------------------------- 11.3/41.0 MB 5.4 MB/s eta 0:00:06\n",
      "   ------------ --------------------------- 12.3/41.0 MB 5.4 MB/s eta 0:00:06\n",
      "   ------------- -------------------------- 13.6/41.0 MB 5.5 MB/s eta 0:00:06\n",
      "   -------------- ------------------------- 14.9/41.0 MB 5.5 MB/s eta 0:00:05\n",
      "   --------------- ------------------------ 16.3/41.0 MB 5.6 MB/s eta 0:00:05\n",
      "   ----------------- ---------------------- 17.6/41.0 MB 5.6 MB/s eta 0:00:05\n",
      "   ------------------ --------------------- 18.9/41.0 MB 5.6 MB/s eta 0:00:04\n",
      "   ------------------- -------------------- 19.9/41.0 MB 5.6 MB/s eta 0:00:04\n",
      "   -------------------- ------------------- 21.2/41.0 MB 5.6 MB/s eta 0:00:04\n",
      "   ---------------------- ----------------- 22.5/41.0 MB 5.6 MB/s eta 0:00:04\n",
      "   ----------------------- ---------------- 23.6/41.0 MB 5.6 MB/s eta 0:00:04\n",
      "   ------------------------ --------------- 24.9/41.0 MB 5.6 MB/s eta 0:00:03\n",
      "   ------------------------- -------------- 26.2/41.0 MB 5.6 MB/s eta 0:00:03\n",
      "   -------------------------- ------------- 27.3/41.0 MB 5.6 MB/s eta 0:00:03\n",
      "   --------------------------- ------------ 28.0/41.0 MB 5.5 MB/s eta 0:00:03\n",
      "   ---------------------------- ----------- 29.4/41.0 MB 5.5 MB/s eta 0:00:03\n",
      "   ----------------------------- ---------- 30.7/41.0 MB 5.5 MB/s eta 0:00:02\n",
      "   ------------------------------ --------- 31.7/41.0 MB 5.6 MB/s eta 0:00:02\n",
      "   -------------------------------- ------- 33.0/41.0 MB 5.6 MB/s eta 0:00:02\n",
      "   --------------------------------- ------ 34.1/41.0 MB 5.5 MB/s eta 0:00:02\n",
      "   ---------------------------------- ----- 35.4/41.0 MB 5.5 MB/s eta 0:00:02\n",
      "   ----------------------------------- ---- 36.7/41.0 MB 5.5 MB/s eta 0:00:01\n",
      "   ------------------------------------ --- 37.7/41.0 MB 5.5 MB/s eta 0:00:01\n",
      "   ------------------------------------- -- 38.8/41.0 MB 5.5 MB/s eta 0:00:01\n",
      "   ---------------------------------------  40.1/41.0 MB 5.5 MB/s eta 0:00:01\n",
      "   ---------------------------------------  40.9/41.0 MB 5.5 MB/s eta 0:00:01\n",
      "   ---------------------------------------  40.9/41.0 MB 5.5 MB/s eta 0:00:01\n",
      "   ---------------------------------------- 41.0/41.0 MB 5.3 MB/s eta 0:00:00\n",
      "Downloading threadpoolctl-3.6.0-py3-none-any.whl (18 kB)\n",
      "Installing collected packages: threadpoolctl, scipy, scikit-learn\n",
      "Successfully installed scikit-learn-1.7.0 scipy-1.15.3 threadpoolctl-3.6.0\n",
      "Note: you may need to restart the kernel to use updated packages.\n"
     ]
    }
   ],
   "source": [
    "%pip install scikit-learn\n",
    "\n",
    "from sklearn.feature_extraction.text import CountVectorizer "
   ]
  },
  {
   "cell_type": "code",
   "execution_count": 8,
   "id": "71a055b6",
   "metadata": {},
   "outputs": [],
   "source": [
    "cv= CountVectorizer()"
   ]
  },
  {
   "cell_type": "code",
   "execution_count": 10,
   "id": "1bc992c7",
   "metadata": {},
   "outputs": [],
   "source": [
    "x = cv.fit_transform(df['processed_text'].fillna(\"\")).toarray()"
   ]
  },
  {
   "cell_type": "code",
   "execution_count": 11,
   "id": "209425df",
   "metadata": {},
   "outputs": [],
   "source": [
    "y=df['target'].values"
   ]
  },
  {
   "cell_type": "code",
   "execution_count": 12,
   "id": "09ffbe06",
   "metadata": {},
   "outputs": [
    {
     "data": {
      "text/plain": [
       "array([0, 0, 1, ..., 0, 0, 0], shape=(5169,))"
      ]
     },
     "execution_count": 12,
     "metadata": {},
     "output_type": "execute_result"
    }
   ],
   "source": [
    "y"
   ]
  },
  {
   "cell_type": "code",
   "execution_count": 13,
   "id": "b0ff3f65",
   "metadata": {},
   "outputs": [],
   "source": [
    "from sklearn.model_selection import train_test_split    "
   ]
  },
  {
   "cell_type": "code",
   "execution_count": 14,
   "id": "a24ef805",
   "metadata": {},
   "outputs": [],
   "source": [
    "X_train, X_test, y_train, y_test = train_test_split(x, y, test_size=0.2, random_state=42)"
   ]
  },
  {
   "cell_type": "code",
   "execution_count": 15,
   "id": "8442a58c",
   "metadata": {},
   "outputs": [],
   "source": [
    "from sklearn.naive_bayes import MultinomialNB, GaussianNB, BernoulliNB  \n",
    "from sklearn.metrics import accuracy_score, classification_report, confusion_matrix"
   ]
  },
  {
   "cell_type": "code",
   "execution_count": 17,
   "id": "527e60a3",
   "metadata": {},
   "outputs": [],
   "source": [
    "nb= MultinomialNB()\n",
    "gb= GaussianNB()\n",
    "bnb= BernoulliNB()"
   ]
  },
  {
   "cell_type": "code",
   "execution_count": 20,
   "id": "3bd08de3",
   "metadata": {},
   "outputs": [
    {
     "name": "stdout",
     "output_type": "stream",
     "text": [
      "Gaussian Naive Bayes Accuracy: 0.8723404255319149\n",
      "Classification Report:\n",
      "               precision    recall  f1-score   support\n",
      "\n",
      "           0       0.98      0.87      0.92       889\n",
      "           1       0.53      0.88      0.66       145\n",
      "\n",
      "    accuracy                           0.87      1034\n",
      "   macro avg       0.75      0.87      0.79      1034\n",
      "weighted avg       0.91      0.87      0.88      1034\n",
      "\n",
      "Confusion Matrix:\n",
      " [[775 114]\n",
      " [ 18 127]]\n",
      "0.9141506011092245\n"
     ]
    }
   ],
   "source": [
    "from sklearn.metrics import precision_score\n",
    "\n",
    "gb.fit(X_train, y_train)\n",
    "y_pred = gb.predict(X_test)\n",
    "print(\"Gaussian Naive Bayes Accuracy:\", accuracy_score(y_test, y_pred))\n",
    "print(\"Classification Report:\\n\", classification_report(y_test, y_pred))\n",
    "print(\"Confusion Matrix:\\n\", confusion_matrix(y_test, y_pred))\n",
    "print(precision_score(y_test, y_pred, average='weighted'))"
   ]
  },
  {
   "cell_type": "code",
   "execution_count": 21,
   "id": "bd924412",
   "metadata": {},
   "outputs": [
    {
     "name": "stdout",
     "output_type": "stream",
     "text": [
      "Gaussian Naive Bayes Accuracy: 0.9748549323017408\n",
      "Classification Report:\n",
      "               precision    recall  f1-score   support\n",
      "\n",
      "           0       0.99      0.98      0.99       889\n",
      "           1       0.90      0.92      0.91       145\n",
      "\n",
      "    accuracy                           0.97      1034\n",
      "   macro avg       0.95      0.95      0.95      1034\n",
      "weighted avg       0.98      0.97      0.97      1034\n",
      "\n",
      "Confusion Matrix:\n",
      " [[875  14]\n",
      " [ 12 133]]\n",
      "0.9750129774596661\n"
     ]
    }
   ],
   "source": [
    "nb.fit(X_train, y_train)\n",
    "y_pred = nb.predict(X_test)\n",
    "print(\"Gaussian Naive Bayes Accuracy:\", accuracy_score(y_test, y_pred))\n",
    "print(\"Classification Report:\\n\", classification_report(y_test, y_pred))\n",
    "print(\"Confusion Matrix:\\n\", confusion_matrix(y_test, y_pred))\n",
    "print(precision_score(y_test, y_pred, average='weighted'))"
   ]
  },
  {
   "cell_type": "code",
   "execution_count": 22,
   "id": "511e5189",
   "metadata": {},
   "outputs": [
    {
     "name": "stdout",
     "output_type": "stream",
     "text": [
      "Gaussian Naive Bayes Accuracy: 0.9690522243713733\n",
      "Classification Report:\n",
      "               precision    recall  f1-score   support\n",
      "\n",
      "           0       0.97      1.00      0.98       889\n",
      "           1       0.97      0.80      0.88       145\n",
      "\n",
      "    accuracy                           0.97      1034\n",
      "   macro avg       0.97      0.90      0.93      1034\n",
      "weighted avg       0.97      0.97      0.97      1034\n",
      "\n",
      "Confusion Matrix:\n",
      " [[886   3]\n",
      " [ 29 116]]\n",
      "0.9692152626024885\n"
     ]
    }
   ],
   "source": [
    "bnb.fit(X_train, y_train)\n",
    "y_pred = bnb.predict(X_test)\n",
    "print(\"Gaussian Naive Bayes Accuracy:\", accuracy_score(y_test, y_pred))\n",
    "print(\"Classification Report:\\n\", classification_report(y_test, y_pred))\n",
    "print(\"Confusion Matrix:\\n\", confusion_matrix(y_test, y_pred))\n",
    "print(precision_score(y_test, y_pred, average='weighted'))"
   ]
  },
  {
   "cell_type": "code",
   "execution_count": 23,
   "id": "8d062f4d",
   "metadata": {},
   "outputs": [
    {
     "name": "stdout",
     "output_type": "stream",
     "text": [
      "Logistic Regression: Precision = 0.9762\n",
      "Decision Tree: Precision = 0.9513\n",
      "Random Forest: Precision = 0.9680\n",
      "Gradient Boosting: Precision = 0.9571\n",
      "AdaBoost: Precision = 0.9060\n",
      "SVC: Precision = 0.9707\n",
      "LinearSVC: Precision = 0.9802\n",
      "KNN: Precision = 0.9146\n",
      "MultinomialNB: Precision = 0.9750\n",
      "GaussianNB: Precision = 0.9142\n",
      "BernoulliNB: Precision = 0.9692\n"
     ]
    }
   ],
   "source": [
    "from sklearn.linear_model import LogisticRegression\n",
    "from sklearn.tree import DecisionTreeClassifier\n",
    "from sklearn.ensemble import RandomForestClassifier, GradientBoostingClassifier, AdaBoostClassifier\n",
    "from sklearn.svm import SVC, LinearSVC\n",
    "from sklearn.neighbors import KNeighborsClassifier\n",
    "from sklearn.naive_bayes import MultinomialNB, GaussianNB, BernoulliNB\n",
    "from sklearn.metrics import precision_score\n",
    "\n",
    "models = {\n",
    "    \"Logistic Regression\": LogisticRegression(max_iter=1000),\n",
    "    \"Decision Tree\": DecisionTreeClassifier(),\n",
    "    \"Random Forest\": RandomForestClassifier(),\n",
    "    \"Gradient Boosting\": GradientBoostingClassifier(),\n",
    "    \"AdaBoost\": AdaBoostClassifier(),\n",
    "    \"SVC\": SVC(),\n",
    "    \"LinearSVC\": LinearSVC(max_iter=10000),\n",
    "    \"KNN\": KNeighborsClassifier(),\n",
    "    \"MultinomialNB\": MultinomialNB(),\n",
    "    \"GaussianNB\": GaussianNB(),\n",
    "    \"BernoulliNB\": BernoulliNB()\n",
    "}\n",
    "\n",
    "results = {}\n",
    "\n",
    "for name, model in models.items():\n",
    "    # GaussianNB needs dense input\n",
    "    if name == \"GaussianNB\":\n",
    "        model.fit(X_train, y_train)\n",
    "        y_pred = model.predict(X_test)\n",
    "    else:\n",
    "        model.fit(X_train, y_train)\n",
    "        y_pred = model.predict(X_test)\n",
    "    precision = precision_score(y_test, y_pred, average='weighted', zero_division=0)\n",
    "    results[name] = precision\n",
    "\n",
    "for name, precision in results.items():\n",
    "    print(f\"{name}: Precision = {precision:.4f}\")"
   ]
  },
  {
   "cell_type": "code",
   "execution_count": null,
   "id": "e4fa137f",
   "metadata": {},
   "outputs": [],
   "source": []
  }
 ],
 "metadata": {
  "kernelspec": {
   "display_name": "Python 3",
   "language": "python",
   "name": "python3"
  },
  "language_info": {
   "codemirror_mode": {
    "name": "ipython",
    "version": 3
   },
   "file_extension": ".py",
   "mimetype": "text/x-python",
   "name": "python",
   "nbconvert_exporter": "python",
   "pygments_lexer": "ipython3",
   "version": "3.13.3"
  }
 },
 "nbformat": 4,
 "nbformat_minor": 5
}
